{
 "cells": [
  {
   "cell_type": "markdown",
   "metadata": {},
   "source": [
    "## Matriz confusion y precision\n",
    "La matriz confusion es una matriz de doble entrada para comparar dos particiones. Cada elemento representa la coincidencia entre ambas particiones: cuenta pares de nodos repetidos (si pertenecen o no a un mismo cluster)."
   ]
  },
  {
   "cell_type": "code",
   "execution_count": 5,
   "metadata": {
    "collapsed": true
   },
   "outputs": [],
   "source": [
    "import networkx as nx\n",
    "import matplotlib.pylab as plt\n",
    "%matplotlib inline\n",
    "import os\n",
    "import numpy as np\n",
    "import pandas as pd"
   ]
  },
  {
   "cell_type": "code",
   "execution_count": 6,
   "metadata": {
    "collapsed": true
   },
   "outputs": [],
   "source": [
    "carpeta = os.getcwd()+'/'\n",
    "\n",
    "G = nx.read_gml(carpeta+'dolphins.gml')\n",
    "\n",
    "gender = pd.read_csv(carpeta+'dolphinsGender.txt', sep='\\t', header=None)\n",
    "delfines = gender[0] # nombres de delfines (nodos)\n",
    "genero = gender[1]   # genero de los delfines en el mismo orden que los nodos\n",
    "n = len(delfines) # cantidad de delfines\n",
    "\n",
    "# A cada uno de los nodos ya existentes en el grafo, se le agrega el genero\n",
    "for d,g in zip(delfines,genero):\n",
    "    G.add_node(d, gender=g)\n",
    "\n",
    "nombres = ['fast_greedy','edge_betweenness','louvain']\n",
    "\n",
    "for metodo in nombres:\n",
    "    data = pd.read_csv('./comparacion/labels_'+metodo+'.txt', sep='\\t')\n",
    "    dolphins = data['Nombre'] # nombres de delfines\n",
    "    comu = data['Comunidad'] # comunidad a la que pertenecen\n",
    "    \n",
    "    for d,c in zip(dolphins,comu):\n",
    "        G.node[d][metodo]=c\n",
    "        \n",
    "# El grafo G tiene los nodos con atributos genero, fast_greedy, edge_betweenness, y louvain\n",
    "# (los ultimos tres atributos son el numero de comunidad en cada uno de esos metodos)"
   ]
  },
  {
   "cell_type": "code",
   "execution_count": 9,
   "metadata": {
    "collapsed": true
   },
   "outputs": [],
   "source": [
    "metodo1 = nombres[0]\n",
    "metodo2 = nombres[1]\n",
    "\n",
    "vector1 = []\n",
    "vector2 = []\n",
    "\n",
    "for i in range(n):\n",
    "    for j in range(i,n):\n",
    "        if G.node[delfines[i]][metodo1] == G.node[delfines[j]][metodo1]:\n",
    "            vector1.append(1)\n",
    "        else:\n",
    "            vector1.append(0)\n",
    "\n",
    "for i in range(n):\n",
    "    for j in range(i,n):\n",
    "        if G.node[delfines[i]][metodo2] == G.node[delfines[j]][metodo2]:\n",
    "            vector2.append(1)\n",
    "        else:\n",
    "            vector2.append(0)\n"
   ]
  },
  {
   "cell_type": "code",
   "execution_count": null,
   "metadata": {
    "collapsed": true
   },
   "outputs": [],
   "source": [
    "# Falta importar lo que sea necesario\n",
    "sklearn.metrics.confusion_matrix(vector1,vector2)"
   ]
  },
  {
   "cell_type": "code",
   "execution_count": null,
   "metadata": {
    "collapsed": true
   },
   "outputs": [],
   "source": []
  }
 ],
 "metadata": {
  "kernelspec": {
   "display_name": "Python 3",
   "language": "python",
   "name": "python3"
  },
  "language_info": {
   "codemirror_mode": {
    "name": "ipython",
    "version": 3
   },
   "file_extension": ".py",
   "mimetype": "text/x-python",
   "name": "python",
   "nbconvert_exporter": "python",
   "pygments_lexer": "ipython3",
   "version": "3.6.3"
  }
 },
 "nbformat": 4,
 "nbformat_minor": 2
}
