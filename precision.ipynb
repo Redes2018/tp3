{
 "cells": [
  {
   "cell_type": "markdown",
   "metadata": {},
   "source": [
    "## Matriz confusion y precision\n",
    "La matriz confusion es una matriz de doble entrada para comparar dos particiones. Cada elemento representa la coincidencia entre ambas particiones: cuenta pares de nodos repetidos (si pertenecen o no a un mismo cluster)."
   ]
  },
  {
   "cell_type": "code",
   "execution_count": 1,
   "metadata": {},
   "outputs": [],
   "source": [
    "import networkx as nx\n",
    "import matplotlib.pylab as plt\n",
    "%matplotlib inline\n",
    "import os\n",
    "import numpy as np\n",
    "import pandas as pd\n",
    "from sklearn.metrics import confusion_matrix"
   ]
  },
  {
   "cell_type": "code",
   "execution_count": 2,
   "metadata": {},
   "outputs": [],
   "source": [
    "carpeta = os.getcwd()+'/'\n",
    "\n",
    "G = nx.read_gml(carpeta+'dolphins.gml')\n",
    "\n",
    "gender = pd.read_csv(carpeta+'dolphinsGender.txt', sep='\\t', header=None)\n",
    "delfines = gender[0] # nombres de delfines (nodos)\n",
    "genero = gender[1]   # genero de los delfines en el mismo orden que los nodos\n",
    "n = len(delfines) # cantidad de delfines\n",
    "\n",
    "# A cada uno de los nodos ya existentes en el grafo, se le agrega el genero\n",
    "for d,g in zip(delfines,genero):\n",
    "    G.add_node(d, gender=g)\n",
    "\n",
    "nombres = ['fast_greedy','edge_betweenness','louvain']\n",
    "\n",
    "for metodo in nombres:\n",
    "    data = pd.read_csv('./comparacion/labels_'+metodo+'.txt', sep='\\t')\n",
    "    dolphins = data['Nombre'] # nombres de delfines\n",
    "    comu = data['Comunidad'] # comunidad a la que pertenecen\n",
    "    \n",
    "    for d,c in zip(dolphins,comu):\n",
    "        G.node[d][metodo]=c\n",
    "        \n",
    "# El grafo G tiene los nodos con atributos genero, fast_greedy, edge_betweenness, y louvain\n",
    "# (los ultimos tres atributos son el numero de comunidad en cada uno de esos metodos)"
   ]
  },
  {
   "cell_type": "code",
   "execution_count": 51,
   "metadata": {},
   "outputs": [
    {
     "name": "stdout",
     "output_type": "stream",
     "text": [
      "[[1288  125]\n",
      " [ 115  425]]\n",
      "[[1350   53]\n",
      " [ 126  424]]\n",
      "[[1355  121]\n",
      " [  58  419]]\n"
     ]
    },
    {
     "data": {
      "text/html": [
       "<div>\n",
       "<style scoped>\n",
       "    .dataframe tbody tr th:only-of-type {\n",
       "        vertical-align: middle;\n",
       "    }\n",
       "\n",
       "    .dataframe tbody tr th {\n",
       "        vertical-align: top;\n",
       "    }\n",
       "\n",
       "    .dataframe thead th {\n",
       "        text-align: right;\n",
       "    }\n",
       "</style>\n",
       "<table border=\"1\" class=\"dataframe\">\n",
       "  <thead>\n",
       "    <tr style=\"text-align: right;\">\n",
       "      <th></th>\n",
       "      <th>Comunidades</th>\n",
       "      <th>Precisión</th>\n",
       "    </tr>\n",
       "  </thead>\n",
       "  <tbody>\n",
       "    <tr>\n",
       "      <th>0</th>\n",
       "      <td>FG vs EB</td>\n",
       "      <td>0.723502</td>\n",
       "    </tr>\n",
       "    <tr>\n",
       "      <th>1</th>\n",
       "      <td>EB vs Lou</td>\n",
       "      <td>0.718382</td>\n",
       "    </tr>\n",
       "    <tr>\n",
       "      <th>2</th>\n",
       "      <td>Lou vs FG</td>\n",
       "      <td>0.755760</td>\n",
       "    </tr>\n",
       "  </tbody>\n",
       "</table>\n",
       "</div>"
      ],
      "text/plain": [
       "  Comunidades  Precisión\n",
       "0    FG vs EB   0.723502\n",
       "1   EB vs Lou   0.718382\n",
       "2   Lou vs FG   0.755760"
      ]
     },
     "execution_count": 51,
     "metadata": {},
     "output_type": "execute_result"
    }
   ],
   "source": [
    "#Lo hacemos para fast-greedy y edge-betweeness, para  fast-greedy y Louvain y para edge-betweeness y Louvain\n",
    "precision=[]\n",
    "\n",
    "\n",
    "nombres=['fast_greedy','edge_betweenness','louvain','fast_greedy']\n",
    "for i in range(len(nombres)-1):\n",
    "\n",
    "    vector1 = []\n",
    "    vector2 = []\n",
    "\n",
    "\n",
    "    metodo1 = nombres[i] \n",
    "    metodo2 = nombres[i+1]\n",
    "\n",
    "    for i in range(n):\n",
    "        for j in range(i,n):\n",
    "            if G.node[delfines[i]][metodo1] == G.node[delfines[j]][metodo1]:\n",
    "                vector1.append(1)\n",
    "            else:\n",
    "                vector1.append(0)\n",
    "\n",
    "    for i in range(n):\n",
    "        for j in range(i,n):\n",
    "            if G.node[delfines[i]][metodo2] == G.node[delfines[j]][metodo2]:\n",
    "                vector2.append(1)\n",
    "            else:\n",
    "                vector2.append(0)\n",
    "\n",
    "\n",
    "    cnf_matrix=confusion_matrix(vector1,vector2) #en el primer lugar va la \"real\" y les paso las comunidades\n",
    "    a=cnf_matrix[0][0]\n",
    "    b=cnf_matrix[0][1]\n",
    "    c=cnf_matrix[1][0]\n",
    "    d=cnf_matrix[1][1]\n",
    "    \n",
    "    print(cnf_matrix)\n",
    "    \n",
    "    precision_i=(a+b)/(a+b+c+d)\n",
    "    precision.append(precision_i)\n",
    "\n",
    "tabla_resumen = pd.DataFrame({\"Comunidades\":[\"FG vs EB\",\"EB vs Lou\",\"Lou vs FG\"],\n",
    "                    \"Precisión\":precision, #es = que modularidades\n",
    "                   })\n",
    "tabla_resumen\n",
    "\n",
    "\n"
   ]
  },
  {
   "cell_type": "code",
   "execution_count": null,
   "metadata": {},
   "outputs": [],
   "source": []
  },
  {
   "cell_type": "code",
   "execution_count": null,
   "metadata": {},
   "outputs": [],
   "source": []
  },
  {
   "cell_type": "code",
   "execution_count": null,
   "metadata": {},
   "outputs": [],
   "source": []
  },
  {
   "cell_type": "code",
   "execution_count": null,
   "metadata": {},
   "outputs": [],
   "source": []
  }
 ],
 "metadata": {
  "kernelspec": {
   "display_name": "Python 3",
   "language": "python",
   "name": "python3"
  },
  "language_info": {
   "codemirror_mode": {
    "name": "ipython",
    "version": 3
   },
   "file_extension": ".py",
   "mimetype": "text/x-python",
   "name": "python",
   "nbconvert_exporter": "python",
   "pygments_lexer": "ipython3",
   "version": "3.6.5"
  }
 },
 "nbformat": 4,
 "nbformat_minor": 2
}
