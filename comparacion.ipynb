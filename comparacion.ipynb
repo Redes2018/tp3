{
 "cells": [
  {
   "cell_type": "code",
   "execution_count": 1,
   "metadata": {
    "collapsed": true
   },
   "outputs": [],
   "source": [
    "import networkx as nx\n",
    "import matplotlib.pylab as plt\n",
    "%matplotlib inline\n",
    "import os\n",
    "import numpy as np\n",
    "import pandas as pd"
   ]
  },
  {
   "cell_type": "code",
   "execution_count": 33,
   "metadata": {
    "collapsed": true
   },
   "outputs": [],
   "source": [
    "carpeta = os.getcwd()+'/'\n",
    "\n",
    "G = nx.read_gml(carpeta+'dolphins.gml')\n",
    "\n",
    "gender = pd.read_csv(carpeta+'dolphinsGender.txt', sep='\\t', header=None)\n",
    "delfines = gender[0] # nombres de delfines (nodos)\n",
    "genero = gender[1]   # genero de los delfines en el mismo orden que los nodos\n",
    "\n",
    "# A cada uno de los nodos ya existentes en el grafo, se le agrega el genero\n",
    "for d,g in zip(delfines,genero):\n",
    "    G.add_node(d, gender=g)\n"
   ]
  },
  {
   "cell_type": "code",
   "execution_count": 3,
   "metadata": {
    "collapsed": true
   },
   "outputs": [],
   "source": [
    "nombres = ['infomap','fast_greedy','edge_betweenness','louvain']"
   ]
  },
  {
   "cell_type": "code",
   "execution_count": 46,
   "metadata": {},
   "outputs": [],
   "source": [
    "for metodo in nombres:\n",
    "    data = pd.read_csv('./comparacion/labels_'+metodo+'.txt', sep='\\t')\n",
    "    dolphins = data['Nombre'] # nombres de delfines\n",
    "    comu = data['Comunidad'] # comunidad a la que pertenecen\n",
    "    \n",
    "    for d,c in zip(dolphins,comu):\n",
    "        G.node[d][metodo]=c"
   ]
  },
  {
   "cell_type": "code",
   "execution_count": 48,
   "metadata": {},
   "outputs": [],
   "source": [
    "# Calculo de modularidad\n",
    "\n",
    "delfines = G.nodes()\n",
    "A = np.array(nx.to_numpy_matrix(G,nodelist=delfines)) # Creo la matriz de adyacencia\n",
    "m = G.number_of_edges()\n",
    "grado = dict(G.degree())\n",
    "\n",
    "mod = np.zeros(4)\n",
    "\n",
    "for j,metodo in enumerate(nombres):\n",
    "    # Matriz de variable categorica comunidad: Cij=delta(ci,cj), tengo una por paso\n",
    "    C = np.zeros(np.shape(A))\n",
    "    for ni, idelfin in enumerate(delfines):\n",
    "        for nj, jdelfin in enumerate(delfines):\n",
    "            if G.node[idelfin][metodo] == G.node[jdelfin][metodo]:\n",
    "                C[ni,nj]=1\n",
    "\n",
    "    # Calculo de la modularidad\n",
    "    # Q/Qmax = (S1-S2)*(1/2m)\n",
    "\n",
    "    #S1 = Suma en nodos (Aij*Cij)\n",
    "    #S2 = Suma en nodos(kikj*Cij/2m)\n",
    "    S1 = 0\n",
    "    S2 = 0\n",
    "\n",
    "    for ni, idelfin in enumerate(delfines):\n",
    "        for nj, jdelfin in enumerate(delfines):  \n",
    "            S1 = S1 + A[ni,nj]*C[ni,nj]\n",
    "            S2 = S2 + grado[idelfin]*grado[jdelfin]*C[ni,nj]\n",
    "    S2 = S2/(2*m)\n",
    "    mod[j] = (S1-S2)/(2*m)\n"
   ]
  },
  {
   "cell_type": "code",
   "execution_count": 51,
   "metadata": {},
   "outputs": [
    {
     "data": {
      "text/html": [
       "<div>\n",
       "<style>\n",
       "    .dataframe thead tr:only-child th {\n",
       "        text-align: right;\n",
       "    }\n",
       "\n",
       "    .dataframe thead th {\n",
       "        text-align: left;\n",
       "    }\n",
       "\n",
       "    .dataframe tbody tr th {\n",
       "        vertical-align: top;\n",
       "    }\n",
       "</style>\n",
       "<table border=\"1\" class=\"dataframe\">\n",
       "  <thead>\n",
       "    <tr style=\"text-align: right;\">\n",
       "      <th></th>\n",
       "      <th>Metodo</th>\n",
       "      <th>Modularidad</th>\n",
       "    </tr>\n",
       "  </thead>\n",
       "  <tbody>\n",
       "    <tr>\n",
       "      <th>0</th>\n",
       "      <td>infomap</td>\n",
       "      <td>0.124461</td>\n",
       "    </tr>\n",
       "    <tr>\n",
       "      <th>1</th>\n",
       "      <td>fast_greedy</td>\n",
       "      <td>0.136684</td>\n",
       "    </tr>\n",
       "    <tr>\n",
       "      <th>2</th>\n",
       "      <td>edge_betweenness</td>\n",
       "      <td>0.132155</td>\n",
       "    </tr>\n",
       "    <tr>\n",
       "      <th>3</th>\n",
       "      <td>louvain</td>\n",
       "      <td>0.140244</td>\n",
       "    </tr>\n",
       "  </tbody>\n",
       "</table>\n",
       "</div>"
      ],
      "text/plain": [
       "             Metodo  Modularidad\n",
       "0           infomap     0.124461\n",
       "1       fast_greedy     0.136684\n",
       "2  edge_betweenness     0.132155\n",
       "3           louvain     0.140244"
      ]
     },
     "execution_count": 51,
     "metadata": {},
     "output_type": "execute_result"
    }
   ],
   "source": [
    "df = pd.DataFrame({'Metodo':nombres, 'Modularidad':mod})\n",
    "df"
   ]
  },
  {
   "cell_type": "code",
   "execution_count": null,
   "metadata": {
    "collapsed": true
   },
   "outputs": [],
   "source": []
  }
 ],
 "metadata": {
  "kernelspec": {
   "display_name": "Python 3",
   "language": "python",
   "name": "python3"
  },
  "language_info": {
   "codemirror_mode": {
    "name": "ipython",
    "version": 3
   },
   "file_extension": ".py",
   "mimetype": "text/x-python",
   "name": "python",
   "nbconvert_exporter": "python",
   "pygments_lexer": "ipython3",
   "version": "3.6.3"
  }
 },
 "nbformat": 4,
 "nbformat_minor": 2
}
